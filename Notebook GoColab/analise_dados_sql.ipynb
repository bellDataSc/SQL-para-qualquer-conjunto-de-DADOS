{
  "nbformat": 4,
  "nbformat_minor": 0,
  "metadata": {
    "colab": {
      "provenance": [],
      "authorship_tag": "ABX9TyMCTkQTd8FnkETJwuXDQb0O",
      "include_colab_link": true
    },
    "kernelspec": {
      "name": "python3",
      "display_name": "Python 3"
    },
    "language_info": {
      "name": "python"
    }
  },
  "cells": [
    {
      "cell_type": "markdown",
      "metadata": {
        "id": "view-in-github",
        "colab_type": "text"
      },
      "source": [
        "<a href=\"https://colab.research.google.com/github/bellDataSc/SQL-para-qualquer-conjunto-de-DADOS/blob/main/analise_dados_sql.ipynb\" target=\"_parent\"><img src=\"https://colab.research.google.com/assets/colab-badge.svg\" alt=\"Open In Colab\"/></a>"
      ]
    },
    {
      "cell_type": "code",
      "execution_count": 26,
      "metadata": {
        "colab": {
          "base_uri": "https://localhost:8080/"
        },
        "collapsed": true,
        "id": "RPb9a1f4Aq6W",
        "outputId": "3604d543-aa64-4a2a-fe5c-7a771da133e6"
      },
      "outputs": [
        {
          "output_type": "stream",
          "name": "stdout",
          "text": [
            "Pastas dentro do Drive:\n",
            "['.file-revisions-by-id', 'MyDrive', '.shortcut-targets-by-id', '.Trash-0', '.Encrypted']\n",
            "Arquivos dentro da pasta sql-analise-dados:\n",
            "['SQL for Data Analytics.csv', 'indicadores.CSV']\n",
            "Arquivo encontrado: /content/drive/My Drive/sql-analise-dados/indicadores.CSV\n"
          ]
        }
      ],
      "source": [
        "## Listar Diretórios para Confirmar o Caminho Correto\n",
        "\n",
        "import os\n",
        "\n",
        "# Caminho base do Google Drive\n",
        "caminho_base = \"/content/drive\"\n",
        "\n",
        "# Listar todas as pastas no Drive\n",
        "print(\"Pastas dentro do Drive:\")\n",
        "print(os.listdir(caminho_base))\n",
        "\n",
        "# Verificar se a pasta sql-analise-dados está dentro de 'My Drive' ou outro local\n",
        "caminho_pasta = os.path.join(caminho_base, \"My Drive\", \"sql-analise-dados\")\n",
        "\n",
        "if os.path.exists(caminho_pasta):\n",
        "    print(\"Arquivos dentro da pasta sql-analise-dados:\")\n",
        "    print(os.listdir(caminho_pasta))\n",
        "else:\n",
        "    print(\"Pasta 'sql-analise-dados' não encontrada. Verifique se o nome está correto.\")\n",
        "\n",
        "## Confirmar se o Arquivo Está na Pasta\n",
        "\n",
        "caminho_arquivo = os.path.join(caminho_base, \"My Drive\", \"sql-analise-dados\", \"indicadores.CSV\")\n",
        "\n",
        "if os.path.exists(caminho_arquivo):\n",
        "    print(f\"Arquivo encontrado: {caminho_arquivo}\")\n",
        "else:\n",
        "    print(\"Arquivo 'indicadores.CSV' não encontrado dentro da pasta sql-analise-dados.\")\n",
        "\n"
      ]
    },
    {
      "cell_type": "code",
      "source": [
        "import pandas as pd\n",
        "\n",
        "# Testar diferentes encodings\n",
        "df = pd.read_csv(caminho_arquivo, encoding=\"ISO-8859-1\")\n",
        "print(\"Arquivo carregado com sucesso!\")\n",
        "print(df.head())\n"
      ],
      "metadata": {
        "colab": {
          "base_uri": "https://localhost:8080/"
        },
        "id": "h8eZj4PNJL1F",
        "outputId": "b31e9a0c-1515-48ec-9d88-a0bcfba280db"
      },
      "execution_count": 30,
      "outputs": [
        {
          "output_type": "stream",
          "name": "stdout",
          "text": [
            "Arquivo carregado com sucesso!\n",
            "          indicador_nome    valor        data\n",
            "0     Receita Tributária  1200000  2024-01-01\n",
            "1   Despesa Orçamentária   800000  2024-01-01\n",
            "2  Investimento Educação   500000  2024-01-01\n",
            "3     Receita Tributária  1500000  2024-02-01\n",
            "4   Despesa Orçamentária   900000  2024-02-01\n"
          ]
        }
      ]
    },
    {
      "cell_type": "code",
      "source": [
        "import sqlite3\n",
        "\n",
        "# Criando conexão com banco de dados SQLite\n",
        "conn = sqlite3.connect(\"indicadores.db\")\n",
        "cursor = conn.cursor()\n",
        "\n",
        "# Criando a tabela\n",
        "cursor.execute(\"\"\"\n",
        "CREATE TABLE IF NOT EXISTS indicadores (\n",
        "    id INTEGER PRIMARY KEY AUTOINCREMENT,\n",
        "    indicador_nome TEXT,\n",
        "    valor REAL,\n",
        "    data TEXT\n",
        ")\n",
        "\"\"\")\n",
        "conn.commit()\n",
        "\n",
        "#Insira os dados do CSV no banco:\n",
        "df.to_sql(\"indicadores\", conn, if_exists=\"replace\", index=False)\n"
      ],
      "metadata": {
        "colab": {
          "base_uri": "https://localhost:8080/"
        },
        "id": "fhEmBbuXLQWT",
        "outputId": "34859773-97ab-49b4-845b-1bd546ab9542"
      },
      "execution_count": 32,
      "outputs": [
        {
          "output_type": "execute_result",
          "data": {
            "text/plain": [
              "5"
            ]
          },
          "metadata": {},
          "execution_count": 32
        }
      ]
    },
    {
      "cell_type": "code",
      "source": [
        "# Criando as Consultas SQL\n",
        "# Exemplo 1: Selecionar todos os dados\n",
        "query = \"SELECT * FROM indicadores\"\n",
        "df_result = pd.read_sql(query, conn)\n",
        "print(df_result)\n",
        "\n",
        "# Exemplo 2: Média dos valores por indicador\n",
        "query = \"\"\"\n",
        "SELECT indicador_nome, AVG(valor) AS media_valor\n",
        "FROM indicadores\n",
        "GROUP BY indicador_nome\n",
        "\"\"\"\n",
        "df_media = pd.read_sql(query, conn)\n",
        "print(df_media)\n"
      ],
      "metadata": {
        "colab": {
          "base_uri": "https://localhost:8080/"
        },
        "id": "viELfI8sLfs8",
        "outputId": "a7e6b359-0125-4902-ebb6-2328b6933f9f"
      },
      "execution_count": 33,
      "outputs": [
        {
          "output_type": "stream",
          "name": "stdout",
          "text": [
            "          indicador_nome    valor        data\n",
            "0     Receita Tributária  1200000  2024-01-01\n",
            "1   Despesa Orçamentária   800000  2024-01-01\n",
            "2  Investimento Educação   500000  2024-01-01\n",
            "3     Receita Tributária  1500000  2024-02-01\n",
            "4   Despesa Orçamentária   900000  2024-02-01\n",
            "          indicador_nome  media_valor\n",
            "0   Despesa Orçamentária     850000.0\n",
            "1  Investimento Educação     500000.0\n",
            "2     Receita Tributária    1350000.0\n"
          ]
        }
      ]
    },
    {
      "cell_type": "code",
      "source": [
        "# O que eu tenho aqui:\n",
        "#✅ Um notebook no Google Colab rodando consultas SQL\n",
        "#✅ Dados armazenados no Google Drive\n",
        "#✅ Um banco de dados SQLite para testes"
      ],
      "metadata": {
        "id": "nZm7qrVsLm68"
      },
      "execution_count": null,
      "outputs": []
    }
  ]
}
