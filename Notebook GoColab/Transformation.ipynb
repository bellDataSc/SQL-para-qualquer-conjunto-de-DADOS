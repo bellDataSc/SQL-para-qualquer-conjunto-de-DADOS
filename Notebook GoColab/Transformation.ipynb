# Exibindo as primeiras linhas do dataframe para inspeção
print(df_indicadores.head())

# Verificando valores nulos
print("Valores nulos por coluna:")
print(df_indicadores.isnull().sum())

# Tratando valores nulos - substituindo por média ou removendo
df_indicadores['valor'].fillna(df_indicadores['valor'].mean(), inplace=True)
df_indicadores.dropna(subset=['indicador_nome', 'data'], inplace=True)
