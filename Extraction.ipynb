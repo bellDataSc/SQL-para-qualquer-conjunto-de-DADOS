import pandas as pd

url = 'https://raw.githubusercontent.com/bellDataSc/SQL-para-qualquer-conjunto-de-DADOS/main/SQL for Data Analytics.csv'
df = pd.read_csv(url)
print(df.head())
